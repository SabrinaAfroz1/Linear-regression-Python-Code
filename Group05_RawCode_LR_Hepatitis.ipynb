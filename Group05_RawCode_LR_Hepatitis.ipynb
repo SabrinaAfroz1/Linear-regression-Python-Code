{
 "cells": [
  {
   "cell_type": "markdown",
   "metadata": {},
   "source": [
    "# Import the required Libraries :"
   ]
  },
  {
   "cell_type": "code",
   "execution_count": 31,
   "metadata": {
    "id": "wekeM8f8R55B"
   },
   "outputs": [],
   "source": [
    "import pandas as pd\n",
    "import numpy as np\n",
    "import matplotlib.pyplot as plt"
   ]
  },
  {
   "cell_type": "markdown",
   "metadata": {},
   "source": [
    "# Read the csv file :"
   ]
  },
  {
   "cell_type": "code",
   "execution_count": 32,
   "metadata": {
    "id": "OzdsH_GBYGpR"
   },
   "outputs": [
    {
     "data": {
      "text/html": [
       "<div>\n",
       "<style scoped>\n",
       "    .dataframe tbody tr th:only-of-type {\n",
       "        vertical-align: middle;\n",
       "    }\n",
       "\n",
       "    .dataframe tbody tr th {\n",
       "        vertical-align: top;\n",
       "    }\n",
       "\n",
       "    .dataframe thead th {\n",
       "        text-align: right;\n",
       "    }\n",
       "</style>\n",
       "<table border=\"1\" class=\"dataframe\">\n",
       "  <thead>\n",
       "    <tr style=\"text-align: right;\">\n",
       "      <th></th>\n",
       "      <th>age</th>\n",
       "      <th>sex</th>\n",
       "      <th>steroid</th>\n",
       "      <th>antivirals</th>\n",
       "      <th>fatigue</th>\n",
       "      <th>malaise</th>\n",
       "      <th>anorexia</th>\n",
       "      <th>liver_big</th>\n",
       "      <th>liver_firm</th>\n",
       "      <th>spleen_palpable</th>\n",
       "      <th>spiders</th>\n",
       "      <th>ascites</th>\n",
       "      <th>varices</th>\n",
       "      <th>bilirubin</th>\n",
       "      <th>alk_phosphate</th>\n",
       "      <th>sgot</th>\n",
       "      <th>albumin</th>\n",
       "      <th>protime</th>\n",
       "      <th>histology</th>\n",
       "      <th>className</th>\n",
       "    </tr>\n",
       "  </thead>\n",
       "  <tbody>\n",
       "    <tr>\n",
       "      <th>0</th>\n",
       "      <td>30</td>\n",
       "      <td>1</td>\n",
       "      <td>0</td>\n",
       "      <td>0</td>\n",
       "      <td>0</td>\n",
       "      <td>0</td>\n",
       "      <td>0</td>\n",
       "      <td>0</td>\n",
       "      <td>0</td>\n",
       "      <td>0</td>\n",
       "      <td>0</td>\n",
       "      <td>0</td>\n",
       "      <td>0</td>\n",
       "      <td>1.0</td>\n",
       "      <td>85</td>\n",
       "      <td>18</td>\n",
       "      <td>4.0</td>\n",
       "      <td>61</td>\n",
       "      <td>0</td>\n",
       "      <td>1</td>\n",
       "    </tr>\n",
       "    <tr>\n",
       "      <th>1</th>\n",
       "      <td>50</td>\n",
       "      <td>0</td>\n",
       "      <td>0</td>\n",
       "      <td>0</td>\n",
       "      <td>1</td>\n",
       "      <td>0</td>\n",
       "      <td>0</td>\n",
       "      <td>0</td>\n",
       "      <td>0</td>\n",
       "      <td>0</td>\n",
       "      <td>0</td>\n",
       "      <td>0</td>\n",
       "      <td>0</td>\n",
       "      <td>0.9</td>\n",
       "      <td>135</td>\n",
       "      <td>42</td>\n",
       "      <td>3.5</td>\n",
       "      <td>61</td>\n",
       "      <td>0</td>\n",
       "      <td>1</td>\n",
       "    </tr>\n",
       "    <tr>\n",
       "      <th>2</th>\n",
       "      <td>78</td>\n",
       "      <td>0</td>\n",
       "      <td>1</td>\n",
       "      <td>0</td>\n",
       "      <td>1</td>\n",
       "      <td>0</td>\n",
       "      <td>0</td>\n",
       "      <td>1</td>\n",
       "      <td>0</td>\n",
       "      <td>0</td>\n",
       "      <td>0</td>\n",
       "      <td>0</td>\n",
       "      <td>0</td>\n",
       "      <td>0.7</td>\n",
       "      <td>96</td>\n",
       "      <td>32</td>\n",
       "      <td>4.0</td>\n",
       "      <td>61</td>\n",
       "      <td>0</td>\n",
       "      <td>1</td>\n",
       "    </tr>\n",
       "    <tr>\n",
       "      <th>3</th>\n",
       "      <td>31</td>\n",
       "      <td>0</td>\n",
       "      <td>1</td>\n",
       "      <td>1</td>\n",
       "      <td>0</td>\n",
       "      <td>0</td>\n",
       "      <td>0</td>\n",
       "      <td>1</td>\n",
       "      <td>0</td>\n",
       "      <td>0</td>\n",
       "      <td>0</td>\n",
       "      <td>0</td>\n",
       "      <td>0</td>\n",
       "      <td>0.7</td>\n",
       "      <td>46</td>\n",
       "      <td>52</td>\n",
       "      <td>4.0</td>\n",
       "      <td>80</td>\n",
       "      <td>0</td>\n",
       "      <td>1</td>\n",
       "    </tr>\n",
       "    <tr>\n",
       "      <th>4</th>\n",
       "      <td>34</td>\n",
       "      <td>0</td>\n",
       "      <td>1</td>\n",
       "      <td>0</td>\n",
       "      <td>0</td>\n",
       "      <td>0</td>\n",
       "      <td>0</td>\n",
       "      <td>1</td>\n",
       "      <td>0</td>\n",
       "      <td>0</td>\n",
       "      <td>0</td>\n",
       "      <td>0</td>\n",
       "      <td>0</td>\n",
       "      <td>1.0</td>\n",
       "      <td>85</td>\n",
       "      <td>200</td>\n",
       "      <td>4.0</td>\n",
       "      <td>61</td>\n",
       "      <td>0</td>\n",
       "      <td>1</td>\n",
       "    </tr>\n",
       "    <tr>\n",
       "      <th>...</th>\n",
       "      <td>...</td>\n",
       "      <td>...</td>\n",
       "      <td>...</td>\n",
       "      <td>...</td>\n",
       "      <td>...</td>\n",
       "      <td>...</td>\n",
       "      <td>...</td>\n",
       "      <td>...</td>\n",
       "      <td>...</td>\n",
       "      <td>...</td>\n",
       "      <td>...</td>\n",
       "      <td>...</td>\n",
       "      <td>...</td>\n",
       "      <td>...</td>\n",
       "      <td>...</td>\n",
       "      <td>...</td>\n",
       "      <td>...</td>\n",
       "      <td>...</td>\n",
       "      <td>...</td>\n",
       "      <td>...</td>\n",
       "    </tr>\n",
       "    <tr>\n",
       "      <th>150</th>\n",
       "      <td>46</td>\n",
       "      <td>0</td>\n",
       "      <td>1</td>\n",
       "      <td>0</td>\n",
       "      <td>1</td>\n",
       "      <td>1</td>\n",
       "      <td>1</td>\n",
       "      <td>1</td>\n",
       "      <td>0</td>\n",
       "      <td>0</td>\n",
       "      <td>1</td>\n",
       "      <td>1</td>\n",
       "      <td>1</td>\n",
       "      <td>7.6</td>\n",
       "      <td>85</td>\n",
       "      <td>242</td>\n",
       "      <td>3.3</td>\n",
       "      <td>50</td>\n",
       "      <td>1</td>\n",
       "      <td>0</td>\n",
       "    </tr>\n",
       "    <tr>\n",
       "      <th>151</th>\n",
       "      <td>44</td>\n",
       "      <td>0</td>\n",
       "      <td>1</td>\n",
       "      <td>0</td>\n",
       "      <td>1</td>\n",
       "      <td>0</td>\n",
       "      <td>0</td>\n",
       "      <td>1</td>\n",
       "      <td>1</td>\n",
       "      <td>0</td>\n",
       "      <td>0</td>\n",
       "      <td>0</td>\n",
       "      <td>0</td>\n",
       "      <td>0.9</td>\n",
       "      <td>126</td>\n",
       "      <td>142</td>\n",
       "      <td>4.3</td>\n",
       "      <td>61</td>\n",
       "      <td>1</td>\n",
       "      <td>1</td>\n",
       "    </tr>\n",
       "    <tr>\n",
       "      <th>152</th>\n",
       "      <td>61</td>\n",
       "      <td>0</td>\n",
       "      <td>0</td>\n",
       "      <td>0</td>\n",
       "      <td>1</td>\n",
       "      <td>1</td>\n",
       "      <td>0</td>\n",
       "      <td>0</td>\n",
       "      <td>1</td>\n",
       "      <td>0</td>\n",
       "      <td>1</td>\n",
       "      <td>0</td>\n",
       "      <td>0</td>\n",
       "      <td>0.8</td>\n",
       "      <td>75</td>\n",
       "      <td>20</td>\n",
       "      <td>4.1</td>\n",
       "      <td>61</td>\n",
       "      <td>1</td>\n",
       "      <td>1</td>\n",
       "    </tr>\n",
       "    <tr>\n",
       "      <th>153</th>\n",
       "      <td>53</td>\n",
       "      <td>1</td>\n",
       "      <td>0</td>\n",
       "      <td>0</td>\n",
       "      <td>1</td>\n",
       "      <td>0</td>\n",
       "      <td>0</td>\n",
       "      <td>1</td>\n",
       "      <td>0</td>\n",
       "      <td>1</td>\n",
       "      <td>1</td>\n",
       "      <td>0</td>\n",
       "      <td>1</td>\n",
       "      <td>1.5</td>\n",
       "      <td>81</td>\n",
       "      <td>19</td>\n",
       "      <td>4.1</td>\n",
       "      <td>48</td>\n",
       "      <td>1</td>\n",
       "      <td>1</td>\n",
       "    </tr>\n",
       "    <tr>\n",
       "      <th>154</th>\n",
       "      <td>43</td>\n",
       "      <td>0</td>\n",
       "      <td>1</td>\n",
       "      <td>0</td>\n",
       "      <td>1</td>\n",
       "      <td>0</td>\n",
       "      <td>0</td>\n",
       "      <td>1</td>\n",
       "      <td>0</td>\n",
       "      <td>1</td>\n",
       "      <td>1</td>\n",
       "      <td>1</td>\n",
       "      <td>0</td>\n",
       "      <td>1.2</td>\n",
       "      <td>100</td>\n",
       "      <td>19</td>\n",
       "      <td>3.1</td>\n",
       "      <td>42</td>\n",
       "      <td>1</td>\n",
       "      <td>0</td>\n",
       "    </tr>\n",
       "  </tbody>\n",
       "</table>\n",
       "<p>155 rows × 20 columns</p>\n",
       "</div>"
      ],
      "text/plain": [
       "     age  sex  steroid  antivirals  fatigue  malaise  anorexia  liver_big  \\\n",
       "0     30    1        0           0        0        0         0          0   \n",
       "1     50    0        0           0        1        0         0          0   \n",
       "2     78    0        1           0        1        0         0          1   \n",
       "3     31    0        1           1        0        0         0          1   \n",
       "4     34    0        1           0        0        0         0          1   \n",
       "..   ...  ...      ...         ...      ...      ...       ...        ...   \n",
       "150   46    0        1           0        1        1         1          1   \n",
       "151   44    0        1           0        1        0         0          1   \n",
       "152   61    0        0           0        1        1         0          0   \n",
       "153   53    1        0           0        1        0         0          1   \n",
       "154   43    0        1           0        1        0         0          1   \n",
       "\n",
       "     liver_firm  spleen_palpable  spiders  ascites  varices  bilirubin  \\\n",
       "0             0                0        0        0        0        1.0   \n",
       "1             0                0        0        0        0        0.9   \n",
       "2             0                0        0        0        0        0.7   \n",
       "3             0                0        0        0        0        0.7   \n",
       "4             0                0        0        0        0        1.0   \n",
       "..          ...              ...      ...      ...      ...        ...   \n",
       "150           0                0        1        1        1        7.6   \n",
       "151           1                0        0        0        0        0.9   \n",
       "152           1                0        1        0        0        0.8   \n",
       "153           0                1        1        0        1        1.5   \n",
       "154           0                1        1        1        0        1.2   \n",
       "\n",
       "     alk_phosphate  sgot  albumin  protime  histology  className  \n",
       "0               85    18      4.0       61          0          1  \n",
       "1              135    42      3.5       61          0          1  \n",
       "2               96    32      4.0       61          0          1  \n",
       "3               46    52      4.0       80          0          1  \n",
       "4               85   200      4.0       61          0          1  \n",
       "..             ...   ...      ...      ...        ...        ...  \n",
       "150             85   242      3.3       50          1          0  \n",
       "151            126   142      4.3       61          1          1  \n",
       "152             75    20      4.1       61          1          1  \n",
       "153             81    19      4.1       48          1          1  \n",
       "154            100    19      3.1       42          1          0  \n",
       "\n",
       "[155 rows x 20 columns]"
      ]
     },
     "execution_count": 32,
     "metadata": {},
     "output_type": "execute_result"
    }
   ],
   "source": [
    "data = pd.read_csv (\"convertnumber.csv\")\n",
    "data.head(157)"
   ]
  },
  {
   "cell_type": "code",
   "execution_count": 33,
   "metadata": {
    "colab": {
     "base_uri": "https://localhost:8080/"
    },
    "id": "Y6nQ-ZvDY6RZ",
    "outputId": "67f03e64-581f-4f2a-b381-ac7c1efa31d7"
   },
   "outputs": [
    {
     "data": {
      "text/plain": [
       "Index(['age', 'sex', 'steroid', 'antivirals', 'fatigue', 'malaise', 'anorexia',\n",
       "       'liver_big', 'liver_firm', 'spleen_palpable', 'spiders', 'ascites',\n",
       "       'varices', 'bilirubin', 'alk_phosphate', 'sgot', 'albumin', 'protime',\n",
       "       'histology', 'className'],\n",
       "      dtype='object')"
      ]
     },
     "execution_count": 33,
     "metadata": {},
     "output_type": "execute_result"
    }
   ],
   "source": [
    "# Print column names\n",
    "data.columns"
   ]
  },
  {
   "cell_type": "code",
   "execution_count": 34,
   "metadata": {
    "id": "uO10sgqiZUPZ"
   },
   "outputs": [],
   "source": [
    "# Read the columns into a variable\n",
    "x1 = data[\"age\"]\n",
    "x2 = data[\"sex\"]\n",
    "x3 = data[\"steroid\"]\n",
    "x4 = data[\"antivirals\"]\n",
    "x5 = data[\"fatigue\"]\n",
    "x6 = data[\"malaise\"]\n",
    "x7 = data[\"anorexia\"]\n",
    "x8 = data[\"liver_big\"]\n",
    "x9 = data[\"liver_firm\"]\n",
    "x10 = data[\"spleen_palpable\"]\n",
    "x11 = data[\"spiders\"]\n",
    "x12 = data[\"ascites\"]\n",
    "x13 = data[\"varices\"]\n",
    "x14 = data[\"bilirubin\"]\n",
    "x15 = data[\"alk_phosphate\"]\n",
    "x16 = data[\"sgot\"]\n",
    "x17 = data[\"albumin\"]\n",
    "x18 = data[\"protime\"]\n",
    "x19 = data[\"histology\"]\n",
    "\n",
    "y = data[\"className\"]"
   ]
  },
  {
   "cell_type": "markdown",
   "metadata": {
    "id": "FeqFva1DeMgH"
   },
   "source": [
    "# Convert our variables datatype from series to array :"
   ]
  },
  {
   "cell_type": "code",
   "execution_count": 36,
   "metadata": {
    "id": "mL4LtueveN-q"
   },
   "outputs": [],
   "source": [
    "x1 = np.array(x1)\n",
    "x2 = np.array(x2)\n",
    "x3 = np.array(x3)\n",
    "x4 = np.array(x4)\n",
    "x5 = np.array(x5)\n",
    "x6 = np.array(x6)\n",
    "x7 = np.array(x7)\n",
    "x8 = np.array(x8)\n",
    "x9 = np.array(x9)\n",
    "x10 = np.array(x10)\n",
    "x11 = np.array(x11)\n",
    "x12 = np.array(x12)\n",
    "x13 = np.array(x13)\n",
    "x14 = np.array(x14)\n",
    "x15 = np.array(x15)\n",
    "x16 = np.array(x16)\n",
    "x17 = np.array(x17)\n",
    "x18 = np.array(x18)\n",
    "x19 = np.array(x19)\n",
    "y =  np.array(y)"
   ]
  },
  {
   "cell_type": "markdown",
   "metadata": {
    "id": "eYxSpBxLfqbg"
   },
   "source": [
    "# Number of rows in our dataset :"
   ]
  },
  {
   "cell_type": "code",
   "execution_count": 37,
   "metadata": {
    "colab": {
     "base_uri": "https://localhost:8080/"
    },
    "id": "dOOxDHcwfsSf",
    "outputId": "63223c63-59b9-4ba0-e0c4-d260b709af89"
   },
   "outputs": [
    {
     "data": {
      "text/plain": [
       "155"
      ]
     },
     "execution_count": 37,
     "metadata": {},
     "output_type": "execute_result"
    }
   ],
   "source": [
    "n =len(x1)\n",
    "n"
   ]
  },
  {
   "cell_type": "markdown",
   "metadata": {
    "id": "Visd0S8bf_Jv"
   },
   "source": [
    "# Create a “ones” matrix "
   ]
  },
  {
   "cell_type": "code",
   "execution_count": 38,
   "metadata": {
    "id": "Rpyk4fgXf7Z5"
   },
   "outputs": [],
   "source": [
    "x_bias =np.ones((n,1))"
   ]
  },
  {
   "cell_type": "markdown",
   "metadata": {
    "id": "Z7Gm6Dn7gRjy"
   },
   "source": [
    "# Reshape our data so that we can perform operations like addition and multiplication with x_bias"
   ]
  },
  {
   "cell_type": "code",
   "execution_count": 39,
   "metadata": {
    "id": "juk-bV7MgTJE"
   },
   "outputs": [],
   "source": [
    "x1_new = np.reshape(x1, (n,1))\n",
    "x2_new = np.reshape(x2, (n,1))\n",
    "x3_new = np.reshape(x3, (n,1))\n",
    "x4_new = np.reshape(x4, (n,1))\n",
    "x5_new = np.reshape(x5, (n,1))\n",
    "x6_new = np.reshape(x6, (n,1))\n",
    "x7_new = np.reshape(x7, (n,1))\n",
    "x8_new = np.reshape(x8, (n,1))\n",
    "x9_new = np.reshape(x9, (n,1))\n",
    "x10_new = np.reshape(x10, (n,1))\n",
    "x11_new = np.reshape(x11, (n,1))\n",
    "x12_new = np.reshape(x12, (n,1))\n",
    "x13_new = np.reshape(x13, (n,1))\n",
    "x14_new = np.reshape(x14, (n,1))\n",
    "x15_new = np.reshape(x15, (n,1))\n",
    "x16_new = np.reshape(x16, (n,1))\n",
    "x17_new = np.reshape(x17, (n,1))\n",
    "x18_new = np.reshape(x18, (n,1))\n",
    "x19_new = np.reshape(x19, (n,1))"
   ]
  },
  {
   "cell_type": "markdown",
   "metadata": {
    "id": "QzZ3AM2EjMqe"
   },
   "source": [
    "Create a major matrix with all the columns like x_bias,x2,x2,x3,x4,x5,x6,x7,x8,x9,x10,x11,x12,x13,x14,x15,x16,x17"
   ]
  },
  {
   "cell_type": "code",
   "execution_count": 42,
   "metadata": {
    "id": "9PXigjhDjXBL"
   },
   "outputs": [],
   "source": [
    "x_new = np.append(x_bias,x1_new,axis=1)\n",
    "x_new = np.append(x_new,x2_new, axis=1)\n",
    "x_new = np.append(x_new,x3_new, axis=1)\n",
    "x_new = np.append(x_new,x4_new, axis=1)\n",
    "x_new = np.append(x_new,x5_new, axis=1)\n",
    "x_new = np.append(x_new,x6_new, axis=1)\n",
    "x_new = np.append(x_new,x7_new, axis=1)\n",
    "x_new = np.append(x_new,x8_new, axis=1)\n",
    "x_new = np.append(x_new,x9_new, axis=1)\n",
    "x_new = np.append(x_new,x10_new, axis=1)\n",
    "x_new = np.append(x_new,x11_new, axis=1)\n",
    "x_new = np.append(x_new,x12_new, axis=1)\n",
    "x_new = np.append(x_new,x13_new, axis=1)\n",
    "x_new = np.append(x_new,x14_new, axis=1)\n",
    "x_new = np.append(x_new,x15_new, axis=1)\n",
    "x_new = np.append(x_new,x16_new, axis=1)\n",
    "x_new = np.append(x_new,x17_new, axis=1)\n",
    "x_new = np.append(x_new,x18_new, axis=1)\n",
    "x_new = np.append(x_new,x19_new, axis=1)"
   ]
  },
  {
   "cell_type": "markdown",
   "metadata": {
    "id": "S91tV1bEkJq9"
   },
   "source": [
    " Print the major matrix "
   ]
  },
  {
   "cell_type": "code",
   "execution_count": 43,
   "metadata": {
    "colab": {
     "base_uri": "https://localhost:8080/"
    },
    "id": "PlBUz4__kNf8",
    "outputId": "a90d1134-32c7-41ea-97bd-fed12129316d"
   },
   "outputs": [
    {
     "data": {
      "text/plain": [
       "array([[ 1. , 30. ,  1. , ...,  4. , 61. ,  0. ],\n",
       "       [ 1. , 50. ,  0. , ...,  3.5, 61. ,  0. ],\n",
       "       [ 1. , 78. ,  0. , ...,  4. , 61. ,  0. ],\n",
       "       ...,\n",
       "       [ 1. , 61. ,  0. , ...,  4.1, 61. ,  1. ],\n",
       "       [ 1. , 53. ,  1. , ...,  4.1, 48. ,  1. ],\n",
       "       [ 1. , 43. ,  0. , ...,  3.1, 42. ,  1. ]])"
      ]
     },
     "execution_count": 43,
     "metadata": {},
     "output_type": "execute_result"
    }
   ],
   "source": [
    "x_new"
   ]
  },
  {
   "cell_type": "markdown",
   "metadata": {
    "id": "l8LqjfAEkVbJ"
   },
   "source": [
    "Find transpose of a matrix"
   ]
  },
  {
   "cell_type": "code",
   "execution_count": 44,
   "metadata": {
    "id": "AZISHPPXkW9u"
   },
   "outputs": [],
   "source": [
    "x_new_transpose = np.transpose(x_new)"
   ]
  },
  {
   "cell_type": "markdown",
   "metadata": {
    "id": "Vr3_uDJMkqcO"
   },
   "source": [
    "Perform multiplication "
   ]
  },
  {
   "cell_type": "code",
   "execution_count": 45,
   "metadata": {
    "id": "9eOwFGTykr5N"
   },
   "outputs": [],
   "source": [
    "# Finding dot product of original and transposed matrix :\n",
    "x_new_transpose_dot_x_new = x_new_transpose.dot(x_new)"
   ]
  },
  {
   "cell_type": "markdown",
   "metadata": {
    "id": "aWpB2pArlAcO"
   },
   "source": [
    "Find inverse"
   ]
  },
  {
   "cell_type": "code",
   "execution_count": 46,
   "metadata": {
    "id": "5CuhacumlBtr"
   },
   "outputs": [],
   "source": [
    "# Finding Inverse\n",
    "temp_1 = np.linalg.inv(x_new_transpose_dot_x_new)"
   ]
  },
  {
   "cell_type": "markdown",
   "metadata": {
    "id": "FGcU8Op8la-7"
   },
   "source": [
    "perform multiplication "
   ]
  },
  {
   "cell_type": "code",
   "execution_count": 47,
   "metadata": {
    "id": "RZj5TAJilcRK"
   },
   "outputs": [],
   "source": [
    "# Finding the dot product of transposed x and y :\n",
    "temp_2 = x_new_transpose.dot(y)"
   ]
  },
  {
   "cell_type": "markdown",
   "metadata": {
    "id": "S0iQgpLJl2x5"
   },
   "source": [
    "Finding coefficients"
   ]
  },
  {
   "cell_type": "code",
   "execution_count": 48,
   "metadata": {
    "colab": {
     "base_uri": "https://localhost:8080/"
    },
    "id": "GYerEExHl4aL",
    "outputId": "a5a35937-b3c9-4433-8f97-130abb5838d2"
   },
   "outputs": [
    {
     "data": {
      "text/plain": [
       "array([ 6.89722116e-01, -2.26718169e-03,  1.86735362e-01,  6.10931164e-02,\n",
       "       -3.76640162e-02, -1.18216741e-03, -1.53532102e-01,  1.54161792e-01,\n",
       "       -8.30083967e-02,  6.93745522e-02, -9.76450840e-02, -1.75225707e-01,\n",
       "       -1.96403698e-01, -8.85915580e-02, -7.53009238e-02,  3.53118249e-04,\n",
       "        7.31304504e-05,  8.86803012e-02,  1.25501813e-03, -2.94432799e-02])"
      ]
     },
     "execution_count": 48,
     "metadata": {},
     "output_type": "execute_result"
    }
   ],
   "source": [
    "# Finding coefficients :\n",
    "theta = temp_1.dot(temp_2)\n",
    "theta"
   ]
  },
  {
   "cell_type": "markdown",
   "metadata": {
    "id": "61sARlycmbpU"
   },
   "source": [
    " print the coefficient values"
   ]
  },
  {
   "cell_type": "code",
   "execution_count": 49,
   "metadata": {
    "colab": {
     "base_uri": "https://localhost:8080/"
    },
    "id": "gE6OQyMsmfo-",
    "outputId": "8af0d17e-047b-4b8a-9070-3c595a39bbbf"
   },
   "outputs": [
    {
     "name": "stdout",
     "output_type": "stream",
     "text": [
      "0.6897221158807909\n",
      "-0.0022671816943390863\n",
      "0.1867353620806227\n",
      "0.061093116385409374\n",
      "-0.03766401616481918\n",
      "-0.0011821674056551323\n",
      "-0.15353210196606004\n",
      "0.1541617919266829\n",
      "-0.0830083967077685\n",
      "0.06937455224570543\n",
      "-0.09764508397305549\n",
      "-0.1752257073010175\n",
      "-0.19640369763561694\n",
      "-0.08859155798437279\n",
      "-0.07530092381736764\n",
      "0.0003531182492760923\n",
      "7.313045035734628e-05\n",
      "0.08868030117626124\n",
      "0.0012550181332746102\n",
      "-0.02944327990087503\n"
     ]
    }
   ],
   "source": [
    "beta_0= theta[0]\n",
    "beta_1= theta[1]\n",
    "beta_2= theta[2]\n",
    "beta_3 =theta[3]\n",
    "beta_4= theta[4]\n",
    "beta_5= theta[5]\n",
    "beta_6 =theta[6]\n",
    "beta_7= theta[7]\n",
    "beta_8= theta[8]\n",
    "beta_9 =theta[9]\n",
    "beta_10= theta[10]\n",
    "beta_11= theta[11]\n",
    "beta_12 =theta[12]\n",
    "beta_13= theta[13]\n",
    "beta_14= theta[14]\n",
    "beta_15 =theta[15]\n",
    "beta_16= theta[16]\n",
    "beta_17= theta[17]\n",
    "beta_18= theta[18]\n",
    "beta_19= theta[19]\n",
    "print (beta_0)\n",
    "print (beta_1)\n",
    "print (beta_2)\n",
    "print (beta_3)\n",
    "print (beta_4)\n",
    "print (beta_5)\n",
    "print (beta_6)\n",
    "print (beta_7)\n",
    "print (beta_8)\n",
    "print (beta_9)\n",
    "print (beta_10)\n",
    "print (beta_11)\n",
    "print (beta_12)\n",
    "print (beta_13)\n",
    "print (beta_14)\n",
    "print (beta_15)\n",
    "print (beta_16)\n",
    "print (beta_17)\n",
    "print (beta_18)\n",
    "print (beta_19)"
   ]
  },
  {
   "cell_type": "markdown",
   "metadata": {
    "id": "mo3Ck7SOoIa4"
   },
   "source": [
    "# Predict the values based on the calculated coefficient values :"
   ]
  },
  {
   "cell_type": "code",
   "execution_count": 58,
   "metadata": {
    "colab": {
     "base_uri": "https://localhost:8080/"
    },
    "id": "tEd-lZUHygq3",
    "outputId": "d40982a1-70e2-4839-adf5-7cc602bf5b94"
   },
   "outputs": [
    {
     "name": "stdout",
     "output_type": "stream",
     "text": [
      "1\n"
     ]
    }
   ],
   "source": [
    "# Predicting a value\n",
    "age =30\n",
    "sex  =1\n",
    "steroid=0\n",
    "antivirals=0\n",
    "fatigue=0\n",
    "malaise=0\n",
    "anorexia=0\n",
    "liver_big=0\n",
    "liver_firm=0\n",
    "spleen_palpable=0\n",
    "spiders=0\n",
    "ascites=0\n",
    "varices=0\n",
    "bilirubin=1.0\n",
    "alk_phosphate=85\n",
    "sgot=18\n",
    "albumin=4.0\n",
    "protime=61\n",
    "histology=0\n",
    "\n",
    "# Prediction function :\n",
    "\n",
    "def predict_values(beta_0, beta_1, beta_2, beta_3,beta_4, beta_5, beta_6, beta_7,beta_8, beta_9, beta_10, beta_11,beta_12, beta_13, beta_14, beta_15,beta_16,beta_17,beta_18,beta_19,age,sex,steroid,antivirals,fatigue,malaise,anorexia,\n",
    "       liver_big,liver_firm,spleen_palpable,spiders,ascites,varices,bilirubin,alk_phosphate,sgot,albumin,protime,\n",
    "       histology):\n",
    "    predicted_value = beta_0+ age* beta_1 +sex* beta_2 + steroid * beta_3 +antivirals*beta_4 +fatigue * beta_5+malaise*beta_6 +anorexia*beta_7+liver_big*beta_8+liver_firm*beta_9+spleen_palpable*beta_10+spiders*beta_11+ascites*beta_12+varices*beta_13 + bilirubin*beta_14+alk_phosphate*beta_15+sgot*beta_16+albumin*beta_17+protime*beta_18+histology*beta_19\n",
    "    return predicted_value\n",
    "\n",
    "output=(predict_values(beta_0, beta_1, beta_2, beta_3,beta_4, beta_5, beta_6, beta_7,beta_8, beta_9, beta_10, beta_11,beta_12, beta_13, beta_14, beta_15,beta_16, beta_17, beta_18, beta_19,age, sex ,steroid,antivirals,fatigue,malaise,anorexia,liver_big,liver_firm,spleen_palpable,spiders,ascites,varices,bilirubin,alk_phosphate,sgot,albumin,protime,histology))\n",
    "print(int(output))"
   ]
  },
  {
   "cell_type": "markdown",
   "metadata": {},
   "source": [
    "# R Square"
   ]
  },
  {
   "cell_type": "code",
   "execution_count": 54,
   "metadata": {},
   "outputs": [
    {
     "data": {
      "text/plain": [
       "48.13977157351674"
      ]
     },
     "execution_count": 54,
     "metadata": {},
     "output_type": "execute_result"
    }
   ],
   "source": [
    "from sklearn import linear_model\n",
    "from sklearn.linear_model import LinearRegression\n",
    "model =LinearRegression()\n",
    "x,y=data[['age','sex','steroid','antivirals','fatigue','malaise','anorexia','liver_big','liver_firm','spleen_palpable','spiders','ascites','varices','bilirubin','alk_phosphate','sgot','albumin','protime','histology']], data.className\n",
    "model.fit(x, y)\n",
    "model.score(x, y)*100"
   ]
  }
 ],
 "metadata": {
  "colab": {
   "collapsed_sections": [],
   "name": "Multivariablewithoutbuildin.ipynb",
   "provenance": []
  },
  "kernelspec": {
   "display_name": "Python 3 (ipykernel)",
   "language": "python",
   "name": "python3"
  },
  "language_info": {
   "codemirror_mode": {
    "name": "ipython",
    "version": 3
   },
   "file_extension": ".py",
   "mimetype": "text/x-python",
   "name": "python",
   "nbconvert_exporter": "python",
   "pygments_lexer": "ipython3",
   "version": "3.9.7"
  }
 },
 "nbformat": 4,
 "nbformat_minor": 1
}
